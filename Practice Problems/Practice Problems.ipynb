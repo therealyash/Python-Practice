{
 "cells": [
  {
   "cell_type": "markdown",
   "id": "bd72b35d",
   "metadata": {},
   "source": [
    "## Python Practice Problems"
   ]
  },
  {
   "cell_type": "markdown",
   "id": "04c814c6",
   "metadata": {},
   "source": [
    "#### 1. User will input (3ages).Find the oldest one"
   ]
  },
  {
   "cell_type": "code",
   "execution_count": 5,
   "id": "f4cd46c3",
   "metadata": {},
   "outputs": [
    {
     "name": "stdout",
     "output_type": "stream",
     "text": [
      "Enter the age of 1 person: 45\n",
      "Enter the age of 2 person: 55\n",
      "Enter the age of 3 person: 65\n",
      "Oldest one is 65\n"
     ]
    }
   ],
   "source": [
    "age = []\n",
    "for i in range(1,4):\n",
    "    a = int(input('Enter the age of {i} person: '.format(i=i)))\n",
    "    age.append(a)\n",
    "print(\"Oldest one is\",max(age))"
   ]
  },
  {
   "cell_type": "markdown",
   "id": "1d0608aa",
   "metadata": {},
   "source": [
    "#### 2. Write a program that will convert celsius value to fahrenheit"
   ]
  },
  {
   "cell_type": "code",
   "execution_count": 14,
   "id": "979e0ce9",
   "metadata": {},
   "outputs": [
    {
     "name": "stdout",
     "output_type": "stream",
     "text": [
      "Enter the temperature in Celsius: 30\n",
      "86.0\n"
     ]
    }
   ],
   "source": [
    "c_temp = float(input('Enter the temperature in Celsius: '))\n",
    "print(((9/5) * c_temp) + 32)\n"
   ]
  },
  {
   "cell_type": "markdown",
   "id": "a2ae9321",
   "metadata": {},
   "source": [
    "#### 3. User will input (2numbers).Write a program to swap the numbers"
   ]
  },
  {
   "cell_type": "code",
   "execution_count": 15,
   "id": "f61559bb",
   "metadata": {},
   "outputs": [
    {
     "name": "stdout",
     "output_type": "stream",
     "text": [
      "Enter 1st number: 55\n",
      "Enter 2nd number: 20\n",
      "Swapped Numbers are 20 55\n"
     ]
    }
   ],
   "source": [
    "a = int(input('Enter 1st number: '))\n",
    "b = int(input('Enter 2nd number: '))\n",
    "a,b = b,a\n",
    "print('Swapped Numbers are',a,b)"
   ]
  },
  {
   "cell_type": "markdown",
   "id": "89c4bc84",
   "metadata": {},
   "source": [
    "#### 4. Write a program that will give you the sum of 3 digits"
   ]
  },
  {
   "cell_type": "code",
   "execution_count": 41,
   "id": "f7880dd9",
   "metadata": {},
   "outputs": [
    {
     "name": "stdout",
     "output_type": "stream",
     "text": [
      "Enter a 3 digit number: 456\n",
      "Sum of 3 digits entered is: 15\n"
     ]
    }
   ],
   "source": [
    "num = int(input('Enter a 3 digit number: '))\n",
    "num_str = str(num)\n",
    "num_lst = [int(i) for i in num_str]\n",
    "print(\"Sum of 3 digits entered is:\",sum(num_lst))\n",
    "  "
   ]
  },
  {
   "cell_type": "markdown",
   "id": "79d6ff0f",
   "metadata": {},
   "source": [
    "#### 5. Write a program that will reverse a four digit number. Also it checks whether the reverse is true.\n"
   ]
  },
  {
   "cell_type": "code",
   "execution_count": 60,
   "id": "4e0c7042",
   "metadata": {},
   "outputs": [
    {
     "name": "stdout",
     "output_type": "stream",
     "text": [
      "Enter a 4 digit number: 8889\n",
      "Reversed Number: 9888\n",
      "Reverse Not True\n"
     ]
    }
   ],
   "source": [
    "num = int(input(\"Enter a 4 digit number: \"))\n",
    "# ex -  4567\n",
    "thousands = num // 1000\n",
    "hundreds = (num // 100) % 10\n",
    "tens = (num // 10) % 10\n",
    "ones = num % 10\n",
    "\n",
    "reverse_num = int(str(ones) + str(tens) + str(hundreds) + str(thousands))\n",
    "print('Reversed Number:',reverse_num)\n",
    "\n",
    "if reverse_num == num:\n",
    "    print('Reverse is True')\n",
    "else:\n",
    "    print('Reverse Not True')"
   ]
  },
  {
   "cell_type": "code",
   "execution_count": 61,
   "id": "057878cf",
   "metadata": {},
   "outputs": [
    {
     "name": "stdout",
     "output_type": "stream",
     "text": [
      "Enter a four-digit number: 4567\n",
      "Hi\n",
      "Reverse number is: 7654\n",
      "The reverse is false.\n"
     ]
    }
   ],
   "source": [
    "# using a loop\n",
    "num = int(input(\"Enter a four-digit number: \"))\n",
    "\n",
    "reverse_num = 0\n",
    "temp = num\n",
    "\n",
    "while temp > 0:\n",
    "    digit = temp % 10\n",
    "    reverse_num = (reverse_num * 10) + digit\n",
    "    temp = temp // 10\n",
    "    \n",
    "    if temp == 0:\n",
    "        print('Hi')\n",
    "\n",
    "print(\"Reverse number is:\", reverse_num)\n",
    "\n",
    "if num == reverse_num:\n",
    "    print(\"The reverse is true.\")\n",
    "else:\n",
    "    print(\"The reverse is false.\")\n",
    "    \n",
    "\"\"\"\n",
    "Dry run\n",
    "\n",
    "temp digit reverse_num\n",
    "\n",
    "4567\t7\t7\n",
    "456 \t6 \t76\n",
    "45 \t\t5 \t765\n",
    "4 \t\t4 \t7654\n",
    "0.4\n",
    "\n",
    "\"\"\""
   ]
  },
  {
   "cell_type": "code",
   "execution_count": null,
   "id": "d7bf72ec",
   "metadata": {},
   "outputs": [],
   "source": []
  }
 ],
 "metadata": {
  "kernelspec": {
   "display_name": "Python 3 (ipykernel)",
   "language": "python",
   "name": "python3"
  },
  "language_info": {
   "codemirror_mode": {
    "name": "ipython",
    "version": 3
   },
   "file_extension": ".py",
   "mimetype": "text/x-python",
   "name": "python",
   "nbconvert_exporter": "python",
   "pygments_lexer": "ipython3",
   "version": "3.10.7"
  }
 },
 "nbformat": 4,
 "nbformat_minor": 5
}
