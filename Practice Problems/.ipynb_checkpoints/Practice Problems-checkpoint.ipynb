{
 "cells": [
  {
   "cell_type": "markdown",
   "id": "bd72b35d",
   "metadata": {},
   "source": [
    "## Python Practice Problems"
   ]
  },
  {
   "cell_type": "markdown",
   "id": "04c814c6",
   "metadata": {},
   "source": [
    "#### 1. User will input (3ages).Find the oldest one"
   ]
  },
  {
   "cell_type": "code",
   "execution_count": 5,
   "id": "f4cd46c3",
   "metadata": {},
   "outputs": [
    {
     "name": "stdout",
     "output_type": "stream",
     "text": [
      "Enter the age of 1 person: 45\n",
      "Enter the age of 2 person: 55\n",
      "Enter the age of 3 person: 65\n",
      "Oldest one is 65\n"
     ]
    }
   ],
   "source": [
    "age = []\n",
    "for i in range(1,4):\n",
    "    a = int(input('Enter the age of {i} person: '.format(i=i)))\n",
    "    age.append(a)\n",
    "print(\"Oldest one is\",max(age))"
   ]
  },
  {
   "cell_type": "markdown",
   "id": "1d0608aa",
   "metadata": {},
   "source": [
    "#### 2. Write a program that will convert celsius value to fahrenheit"
   ]
  },
  {
   "cell_type": "code",
   "execution_count": 14,
   "id": "979e0ce9",
   "metadata": {},
   "outputs": [
    {
     "name": "stdout",
     "output_type": "stream",
     "text": [
      "Enter the temperature in Celsius: 30\n",
      "86.0\n"
     ]
    }
   ],
   "source": [
    "c_temp = float(input('Enter the temperature in Celsius: '))\n",
    "print(((9/5) * c_temp) + 32)\n"
   ]
  },
  {
   "cell_type": "markdown",
   "id": "a2ae9321",
   "metadata": {},
   "source": [
    "#### 3. User will input (2numbers).Write a program to swap the numbers"
   ]
  },
  {
   "cell_type": "code",
   "execution_count": 15,
   "id": "f61559bb",
   "metadata": {},
   "outputs": [
    {
     "name": "stdout",
     "output_type": "stream",
     "text": [
      "Enter 1st number: 55\n",
      "Enter 2nd number: 20\n",
      "Swapped Numbers are 20 55\n"
     ]
    }
   ],
   "source": [
    "a = int(input('Enter 1st number: '))\n",
    "b = int(input('Enter 2nd number: '))\n",
    "a,b = b,a\n",
    "print('Swapped Numbers are',a,b)"
   ]
  },
  {
   "cell_type": "markdown",
   "id": "89c4bc84",
   "metadata": {},
   "source": [
    "#### 4. Write a program that will give you the sum of 3 digits"
   ]
  },
  {
   "cell_type": "code",
   "execution_count": 41,
   "id": "f7880dd9",
   "metadata": {},
   "outputs": [
    {
     "name": "stdout",
     "output_type": "stream",
     "text": [
      "Enter a 3 digit number: 456\n",
      "Sum of 3 digits entered is: 15\n"
     ]
    }
   ],
   "source": [
    "num = int(input('Enter a 3 digit number: '))\n",
    "num_str = str(num)\n",
    "num_lst = [int(i) for i in num_str]\n",
    "print(\"Sum of 3 digits entered is:\",sum(num_lst))\n",
    "  "
   ]
  },
  {
   "cell_type": "markdown",
   "id": "79d6ff0f",
   "metadata": {},
   "source": [
    "#### 5. Write a program that will reverse a four digit number. Also it checks whether the reverse is true.\n"
   ]
  },
  {
   "cell_type": "code",
   "execution_count": 60,
   "id": "4e0c7042",
   "metadata": {},
   "outputs": [
    {
     "name": "stdout",
     "output_type": "stream",
     "text": [
      "Enter a 4 digit number: 8889\n",
      "Reversed Number: 9888\n",
      "Reverse Not True\n"
     ]
    }
   ],
   "source": [
    "num = int(input(\"Enter a 4 digit number: \"))\n",
    "# ex -  4567\n",
    "thousands = num // 1000\n",
    "hundreds = (num // 100) % 10\n",
    "tens = (num // 10) % 10\n",
    "ones = num % 10\n",
    "\n",
    "reverse_num = int(str(ones) + str(tens) + str(hundreds) + str(thousands))\n",
    "print('Reversed Number:',reverse_num)\n",
    "\n",
    "if reverse_num == num:\n",
    "    print('Reverse is True')\n",
    "else:\n",
    "    print('Reverse Not True')"
   ]
  },
  {
   "cell_type": "code",
   "execution_count": 61,
   "id": "057878cf",
   "metadata": {},
   "outputs": [
    {
     "name": "stdout",
     "output_type": "stream",
     "text": [
      "Enter a four-digit number: 4567\n",
      "Hi\n",
      "Reverse number is: 7654\n",
      "The reverse is false.\n"
     ]
    }
   ],
   "source": [
    "# using a loop\n",
    "num = int(input(\"Enter a four-digit number: \"))\n",
    "\n",
    "reverse_num = 0\n",
    "temp = num\n",
    "\n",
    "while temp > 0:\n",
    "    digit = temp % 10\n",
    "    reverse_num = (reverse_num * 10) + digit\n",
    "    temp = temp // 10\n",
    "    \n",
    "    if temp == 0:\n",
    "        print('Hi')\n",
    "\n",
    "print(\"Reverse number is:\", reverse_num)\n",
    "\n",
    "if num == reverse_num:\n",
    "    print(\"The reverse is true.\")\n",
    "else:\n",
    "    print(\"The reverse is false.\")\n",
    "    \n",
    "\"\"\"\n",
    "Dry run\n",
    "\n",
    "temp digit reverse_num\n",
    "\n",
    "4567\t7\t7\n",
    "456 \t6 \t76\n",
    "45 \t\t5 \t765\n",
    "4 \t\t4 \t7654\n",
    "0.4\n",
    "\n",
    "\"\"\""
   ]
  },
  {
   "cell_type": "markdown",
   "id": "6a234283",
   "metadata": {},
   "source": [
    "#### 6. Write a program that will tell whether the number entered by user is odd or even"
   ]
  },
  {
   "cell_type": "code",
   "execution_count": 1,
   "id": "635651af",
   "metadata": {},
   "outputs": [
    {
     "name": "stdout",
     "output_type": "stream",
     "text": [
      "Enter a number: 25\n",
      "Odd\n"
     ]
    }
   ],
   "source": [
    "num = int(input('Enter a number: '))\n",
    "res = 'Even' if num % 2 == 0 else 'Odd'\n",
    "print(res)"
   ]
  },
  {
   "cell_type": "markdown",
   "id": "010fd0a3",
   "metadata": {},
   "source": [
    "#### 7. Write a program to check whether the given year is a leap year or not."
   ]
  },
  {
   "cell_type": "code",
   "execution_count": 5,
   "id": "e07a8565",
   "metadata": {},
   "outputs": [
    {
     "name": "stdout",
     "output_type": "stream",
     "text": [
      "Enter an year: 2024\n",
      "Leap Year!\n"
     ]
    }
   ],
   "source": [
    "year = int(input('Enter an year: '))\n",
    "# year evenly divisible by 4\n",
    "# year not evenly divisible by 4\n",
    "if year % 4 == 0:\n",
    "    if year % 100 != 0:\n",
    "        print('Leap Year!')\n",
    "    else:\n",
    "        print('Not a Leap Year!')\n",
    "else:\n",
    "    print('Not a Leap Year!')"
   ]
  },
  {
   "cell_type": "markdown",
   "id": "c9ab167a",
   "metadata": {},
   "source": [
    "#### 8. Write a program to calculate Euclidean distance between 2 coordinates."
   ]
  },
  {
   "cell_type": "code",
   "execution_count": 8,
   "id": "caa6f756",
   "metadata": {},
   "outputs": [
    {
     "name": "stdout",
     "output_type": "stream",
     "text": [
      "Calculate Euclidean Distance between 2 Coordinates.\n",
      "Enter x1: 2\n",
      "Enter x2: 5\n",
      "Enter y1: 4\n",
      "Enter y2: 7\n",
      "Euclidean Distance: 4.24\n"
     ]
    }
   ],
   "source": [
    "import math\n",
    "print('Calculate Euclidean Distance between 2 Coordinates.')\n",
    "x1 = int(input('Enter x1: '))\n",
    "x2 = int(input('Enter x2: '))\n",
    "y1 = int(input('Enter y1: '))\n",
    "y2 = int(input('Enter y2: '))\n",
    "\n",
    "d = round(math.sqrt (((x2-x1)**2) + ((y2-y1)**2)),2)\n",
    "print('Euclidean Distance:', d)"
   ]
  },
  {
   "cell_type": "markdown",
   "id": "05ebaaef",
   "metadata": {},
   "source": [
    "#### 9. Write a program that takes a user input of 3 angles and will find out whether it can form a triangle or not."
   ]
  },
  {
   "cell_type": "code",
   "execution_count": 13,
   "id": "4e948a20",
   "metadata": {},
   "outputs": [
    {
     "name": "stdout",
     "output_type": "stream",
     "text": [
      "Triangle Check Program\n",
      "Enter angle 1: 60\n",
      "Enter angle 2: 60\n",
      "Enter angle 3: 60\n",
      "Triangle Can be Formed!\n"
     ]
    }
   ],
   "source": [
    "print('Triangle Check Program')\n",
    "sum_ang = 0\n",
    "for i in range(1,4):\n",
    "    ang = round(float(input(\"Enter angle {}: \".format(i))))\n",
    "    sum_ang = sum_ang + ang\n",
    "if sum_ang == 180:\n",
    "    print('Triangle Can be Formed!')\n",
    "else:\n",
    "    print('Triangle Cannot be Formed!')\n",
    "    "
   ]
  },
  {
   "cell_type": "markdown",
   "id": "f567ec6b",
   "metadata": {},
   "source": [
    "#### 10. Write a program that take user input of cost price and selling price and determine whether it's a loss or a profit."
   ]
  },
  {
   "cell_type": "code",
   "execution_count": 14,
   "id": "d7bca9e8",
   "metadata": {},
   "outputs": [
    {
     "name": "stdout",
     "output_type": "stream",
     "text": [
      "Profit or Loss!\n",
      "Enter Cost Price: 500\n",
      "Enter Selling Price: 900\n",
      "Profit!\n"
     ]
    }
   ],
   "source": [
    "print('Profit or Loss!')\n",
    "cost = float(input('Enter Cost Price: '))\n",
    "sell = float(input('Enter Selling Price: '))\n",
    "if (sell-cost) > 0:\n",
    "    print('Profit!')\n",
    "elif (sell - cost) == 0:\n",
    "    print('No Profit No Loss!')\n",
    "else:\n",
    "    print('Loss!')"
   ]
  },
  {
   "cell_type": "code",
   "execution_count": null,
   "id": "7f8edcae",
   "metadata": {},
   "outputs": [],
   "source": []
  },
  {
   "cell_type": "markdown",
   "id": "70607777",
   "metadata": {},
   "source": [
    "#### 17. Write a program that will a 3 digit number from the user and add the square of each digit."
   ]
  },
  {
   "cell_type": "code",
   "execution_count": 2,
   "id": "5004997e",
   "metadata": {},
   "outputs": [
    {
     "name": "stdout",
     "output_type": "stream",
     "text": [
      "Enter a 3 digit number: 456\n",
      "Sum Squares 77\n"
     ]
    }
   ],
   "source": [
    "num = int(input('Enter a 3 digit number: '))\n",
    "sum_squares = 0\n",
    "temp = num\n",
    "\n",
    "while temp > 0:\n",
    "    digit = temp % 10\n",
    "    sum_squares = sum_squares + (digit**2)\n",
    "    temp = temp // 10\n",
    "print('Sum Squares', sum_squares)"
   ]
  },
  {
   "cell_type": "markdown",
   "id": "1c6544f1",
   "metadata": {},
   "source": [
    "#### 19. Write a program that will take user input of (4 digits number) and check whether the number is narcissist number or not.\n"
   ]
  },
  {
   "cell_type": "code",
   "execution_count": 13,
   "id": "bdebf686",
   "metadata": {},
   "outputs": [
    {
     "name": "stdout",
     "output_type": "stream",
     "text": [
      "Enter a 4 digit number: 371\n",
      "Narcissist Number!\n"
     ]
    }
   ],
   "source": [
    "num = int(input('Enter a 4 digit number: '))\n",
    "temp = num\n",
    "num_lst = []\n",
    "\n",
    "# 4567\n",
    "while temp > 0:\n",
    "    digit = temp % 10\n",
    "    num_lst.append(digit)\n",
    "    temp = temp // 10\n",
    "\n",
    "#num_lst.sort()\n",
    "#print(num_lst)\n",
    "\n",
    "sum_squares = 0\n",
    "expo_power = len(str(num))\n",
    "for i in num_lst:\n",
    "    sum_squares = sum_squares + (i**expo_power)\n",
    "\n",
    "if sum_squares == num:\n",
    "    print('Narcissist Number!')\n",
    "else:\n",
    "    print('Not a Narcissist Number!')\n",
    "\n",
    "    \n",
    "    \n",
    "    "
   ]
  },
  {
   "cell_type": "code",
   "execution_count": null,
   "id": "683488d8",
   "metadata": {},
   "outputs": [],
   "source": []
  }
 ],
 "metadata": {
  "kernelspec": {
   "display_name": "Python 3 (ipykernel)",
   "language": "python",
   "name": "python3"
  },
  "language_info": {
   "codemirror_mode": {
    "name": "ipython",
    "version": 3
   },
   "file_extension": ".py",
   "mimetype": "text/x-python",
   "name": "python",
   "nbconvert_exporter": "python",
   "pygments_lexer": "ipython3",
   "version": "3.10.7"
  }
 },
 "nbformat": 4,
 "nbformat_minor": 5
}
