{
 "cells": [
  {
   "cell_type": "markdown",
   "id": "dc642fd1",
   "metadata": {},
   "source": [
    "## Python Practice Problems"
   ]
  },
  {
   "cell_type": "markdown",
   "id": "f76c0c5d",
   "metadata": {},
   "source": [
    "#### 1. User will input (3ages).Find the oldest one"
   ]
  },
  {
   "cell_type": "code",
   "execution_count": 5,
   "id": "91280975",
   "metadata": {},
   "outputs": [
    {
     "name": "stdout",
     "output_type": "stream",
     "text": [
      "Enter the age of 1 person: 45\n",
      "Enter the age of 2 person: 55\n",
      "Enter the age of 3 person: 65\n",
      "Oldest one is 65\n"
     ]
    }
   ],
   "source": [
    "age = []\n",
    "for i in range(1,4):\n",
    "    a = int(input('Enter the age of {i} person: '.format(i=i)))\n",
    "    age.append(a)\n",
    "print(\"Oldest one is\",max(age))"
   ]
  },
  {
   "cell_type": "markdown",
   "id": "9a515756",
   "metadata": {},
   "source": [
    "#### 2. Write a program that will convert celsius value to fahrenheit"
   ]
  },
  {
   "cell_type": "code",
   "execution_count": 14,
   "id": "3f655142",
   "metadata": {},
   "outputs": [
    {
     "name": "stdout",
     "output_type": "stream",
     "text": [
      "Enter the temperature in Celsius: 30\n",
      "86.0\n"
     ]
    }
   ],
   "source": [
    "c_temp = float(input('Enter the temperature in Celsius: '))\n",
    "print(((9/5) * c_temp) + 32)\n"
   ]
  },
  {
   "cell_type": "markdown",
   "id": "7a573820",
   "metadata": {},
   "source": [
    "#### 3. User will input (2numbers).Write a program to swap the numbers"
   ]
  },
  {
   "cell_type": "code",
   "execution_count": 15,
   "id": "d404e8a6",
   "metadata": {},
   "outputs": [
    {
     "name": "stdout",
     "output_type": "stream",
     "text": [
      "Enter 1st number: 55\n",
      "Enter 2nd number: 20\n",
      "Swapped Numbers are 20 55\n"
     ]
    }
   ],
   "source": [
    "a = int(input('Enter 1st number: '))\n",
    "b = int(input('Enter 2nd number: '))\n",
    "a,b = b,a\n",
    "print('Swapped Numbers are',a,b)"
   ]
  },
  {
   "cell_type": "markdown",
   "id": "e0609da9",
   "metadata": {},
   "source": [
    "#### 4. Write a program that will give you the sum of 3 digits"
   ]
  },
  {
   "cell_type": "code",
   "execution_count": 41,
   "id": "7099c73f",
   "metadata": {},
   "outputs": [
    {
     "name": "stdout",
     "output_type": "stream",
     "text": [
      "Enter a 3 digit number: 456\n",
      "Sum of 3 digits entered is: 15\n"
     ]
    }
   ],
   "source": [
    "num = int(input('Enter a 3 digit number: '))\n",
    "num_str = str(num)\n",
    "num_lst = [int(i) for i in num_str]\n",
    "print(\"Sum of 3 digits entered is:\",sum(num_lst))\n",
    "  "
   ]
  },
  {
   "cell_type": "markdown",
   "id": "f439c8ea",
   "metadata": {},
   "source": [
    "#### 5. Write a program that will reverse a four digit number. Also it checks whether the reverse is true.\n"
   ]
  },
  {
   "cell_type": "code",
   "execution_count": 58,
   "id": "d69d6e85",
   "metadata": {},
   "outputs": [
    {
     "name": "stdout",
     "output_type": "stream",
     "text": [
      "Enter a 4 digit number: 4567\n"
     ]
    },
    {
     "data": {
      "text/plain": [
       "7654"
      ]
     },
     "execution_count": 58,
     "metadata": {},
     "output_type": "execute_result"
    }
   ],
   "source": [
    "num = int(input(\"Enter a 4 digit number: \"))\n",
    "# ex -  4567\n",
    "thousands = num // 1000\n",
    "hundreds = (num // 100) % 10\n",
    "tens = (num // 10) % 10\n",
    "ones = num % 10\n",
    "\n",
    "reverse_num = int(str(ones) + str(tens) + str(hundreds) + str(thousands))\n",
    "reverse_num\n",
    "\n",
    "if reverse_num == num:\n",
    "    print('Reverse is True')\n",
    "else:\n",
    "    print('Reverse Not True')"
   ]
  },
  {
   "cell_type": "code",
   "execution_count": null,
   "id": "23045e49",
   "metadata": {},
   "outputs": [],
   "source": []
  }
 ],
 "metadata": {
  "kernelspec": {
   "display_name": "Python 3 (ipykernel)",
   "language": "python",
   "name": "python3"
  },
  "language_info": {
   "codemirror_mode": {
    "name": "ipython",
    "version": 3
   },
   "file_extension": ".py",
   "mimetype": "text/x-python",
   "name": "python",
   "nbconvert_exporter": "python",
   "pygments_lexer": "ipython3",
   "version": "3.10.7"
  }
 },
 "nbformat": 4,
 "nbformat_minor": 5
}
